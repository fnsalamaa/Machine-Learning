{
  "cells": [
    {
      "cell_type": "markdown",
      "metadata": {
        "id": "view-in-github",
        "colab_type": "text"
      },
      "source": [
        "<a href=\"https://colab.research.google.com/github/fnsalamaa/Machine-Learning/blob/main/Machine_Learning_Week10.ipynb\" target=\"_parent\"><img src=\"https://colab.research.google.com/assets/colab-badge.svg\" alt=\"Open In Colab\"/></a>"
      ]
    },
    {
      "cell_type": "markdown",
      "metadata": {
        "id": "pqd898G38JuS"
      },
      "source": [
        "#**✩˚｡⋆ WEEK 10 MACHINE LEARNING ✩˚｡⋆**\n",
        "## Name : Fina Salama Qowlam Hareny\n",
        "### No  : 08 / 2141720164\n",
        "### Class : TI-3I"
      ]
    },
    {
      "cell_type": "markdown",
      "metadata": {
        "id": "8--iwFqfFegt"
      },
      "source": [
        "----\n",
        "###**⋰˚☆LAB WORK 1⋰˚☆**\n",
        "###RNN for Sentiment Analysis"
      ]
    },
    {
      "cell_type": "markdown",
      "metadata": {
        "id": "cMCt7Z1hGSp_"
      },
      "source": [
        "**Step 1 : Import matplotlib and create a helper function to plot the graph:**\n"
      ]
    },
    {
      "cell_type": "code",
      "execution_count": null,
      "metadata": {
        "id": "UUpoEnpe2HtK"
      },
      "outputs": [],
      "source": [
        "import numpy as np\n",
        "import tensorflow_datasets as tfds\n",
        "import tensorflow as tf\n",
        "\n",
        "tfds.disable_progress_bar()"
      ]
    },
    {
      "cell_type": "code",
      "execution_count": null,
      "metadata": {
        "id": "A_k7vtRMFAPK"
      },
      "outputs": [],
      "source": [
        "import matplotlib.pyplot as plt\n",
        "\n",
        "def plot_graphs(history, metric):\n",
        "    plt.plot(history.history[metric])\n",
        "    plt.plot(history.history['val_'+metric], '')\n",
        "    plt.xlabel(\"Epochs\")\n",
        "    plt.ylabel(metric)\n",
        "    plt.legend([metric, 'val_'+metric])"
      ]
    },
    {
      "cell_type": "markdown",
      "metadata": {
        "id": "MlS2MeqbH_1x"
      },
      "source": [
        "**Step 2 - Setup input pipeline**\n",
        "\n",
        "The IMDB movie review dataset is a binary classification dataset—all reviews have either positive or negative sentiment.\n",
        "Download the dataset using TFDS. See loading text tutorial if you want to load the data manually"
      ]
    },
    {
      "cell_type": "code",
      "execution_count": null,
      "metadata": {
        "colab": {
          "base_uri": "https://localhost:8080/"
        },
        "id": "UAC3XEkGFFRo",
        "outputId": "e7713c3c-a978-4ebf-84ac-3930a1ddb6e0"
      },
      "outputs": [
        {
          "output_type": "stream",
          "name": "stdout",
          "text": [
            "Downloading and preparing dataset 80.23 MiB (download: 80.23 MiB, generated: Unknown size, total: 80.23 MiB) to /root/tensorflow_datasets/imdb_reviews/plain_text/1.0.0...\n",
            "Dataset imdb_reviews downloaded and prepared to /root/tensorflow_datasets/imdb_reviews/plain_text/1.0.0. Subsequent calls will reuse this data.\n"
          ]
        },
        {
          "output_type": "execute_result",
          "data": {
            "text/plain": [
              "(TensorSpec(shape=(), dtype=tf.string, name=None),\n",
              " TensorSpec(shape=(), dtype=tf.int64, name=None))"
            ]
          },
          "metadata": {},
          "execution_count": 3
        }
      ],
      "source": [
        "dataset, info = tfds.load('imdb_reviews', with_info=True,\n",
        "                          as_supervised=True)\n",
        "train_dataset, test_dataset = dataset['train'], dataset['test']\n",
        "\n",
        "train_dataset.element_spec"
      ]
    },
    {
      "cell_type": "markdown",
      "metadata": {
        "id": "Ydwms_CemwUP"
      },
      "source": [
        "Initially, this returns a dataset (text, label pairs):"
      ]
    },
    {
      "cell_type": "code",
      "execution_count": null,
      "metadata": {
        "colab": {
          "base_uri": "https://localhost:8080/"
        },
        "id": "dDyZJphsFJmY",
        "outputId": "6cd17ec4-e11c-4dd8-ddb9-730bc7983923"
      },
      "outputs": [
        {
          "output_type": "stream",
          "name": "stdout",
          "text": [
            "text:  b\"This was an absolutely terrible movie. Don't be lured in by Christopher Walken or Michael Ironside. Both are great actors, but this must simply be their worst role in history. Even their great acting could not redeem this movie's ridiculous storyline. This movie is an early nineties US propaganda piece. The most pathetic scenes were those when the Columbian rebels were making their cases for revolutions. Maria Conchita Alonso appeared phony, and her pseudo-love affair with Walken was nothing but a pathetic emotional plug in a movie that was devoid of any real meaning. I am disappointed that there are movies like this, ruining actor's like Christopher Walken's good name. I could barely sit through it.\"\n",
            "label:  0\n"
          ]
        }
      ],
      "source": [
        "for example, label in train_dataset.take(1):\n",
        "  print('text: ', example.numpy())\n",
        "  print('label: ', label.numpy())"
      ]
    },
    {
      "cell_type": "markdown",
      "metadata": {
        "id": "w-uKM65YKYX7"
      },
      "source": [
        "Next, shuffle the data for training and create this pair dataset:"
      ]
    },
    {
      "cell_type": "code",
      "execution_count": null,
      "metadata": {
        "colab": {
          "base_uri": "https://localhost:8080/"
        },
        "id": "P3EhWtT7MRj4",
        "outputId": "a5fb5a38-3a59-4ff5-b382-7862611c16ab"
      },
      "outputs": [
        {
          "output_type": "stream",
          "name": "stdout",
          "text": [
            "texts:  [b\"There is no denying that Ealing comedies are good, but for me this film stands out as one of the best.<br /><br />The basic premise of the film is that a small part of Pimlico in London is discovered to be part of Burgundy, not the UK. We then follow the lives of the residents in their battle to keep the treasure found after the bomb explodes, and keep out the black market traders who soon realise that being exempt from UK law, rationing does not exist. When they become prisoners in their own street because the government has decided to close the boarder we see them fight back against the system.<br /><br />They are forced to ration water and food in their stand for what is right. In fact becoming worse off than they were before it all started, that's where the moral comes in. It's when they loose all the food that they think they are beaten and call for a surrender, only to have the whole of London respond to their plight by sending food, lot's of it. Thus enabling them to continue their struggle.<br /><br />This film hit's the right note throughout, the acting is superb, with Stanley Holloway, Margaret Rutherford, Hermione Baddeley and Betty Warren standing out. It's pitched just right, not too sentimental and the moral of the story not forced down your throat. Well worth a viewing\"\n",
            " b'This was another great Tom Berenger movie.. But some people are right it was like another SGT BARNES character but it was still awsome.. Tom Berenger played a great sniper in the jungles Of Panama! Billy Zane was a wuss at first just like Cpl Upham from Saving Private Ryan but then he got a little more aggresive in the end! Sniper was awsome and action buffs should watch it.. I remind you it wouldnt have as much action as a reg action flick.. i got this one on DVD too and it is excellent!'\n",
            " b'The sun was not shining, it was too wet to play, so I went to the movies, that cold, cold, wet date day.<br /><br />\"The Cat in the Hat\" was the name of the flick, and when it was over, my stomach was sick.<br /><br />Mike Myers played the Cat, his humor was lame, and kids needn\\'t see this, the humor was not tame.<br /><br />the film was like drinking milk, from a rabid cow, so it IS fun to have fun, yet the filmmakers didn\\'t know how.<br /><br />This film, in short is atrocious. The acting was bad, the plot was tweaked too much, and the humor was surprisingly very crude.<br /><br />It starts with Conrad and Sally, A rule breaker and a future sheriff. When their Mother has to go to work, she gets Mrs. Kwan to babysit. Possibly the lone funny part in the movie is when Mrs. Kwan is watching a Taiwanese court room, a `la C-SPAN. She soon falls asleep, and here comes the Cat.<br /><br />The film starts to spiral out of control. The Cat came to try to let the kids have some fun. He\\'s got Thing 1 and Thing 2, Who suddenly start trashing the house. He improvises a TV Infomercial, and accidentally slices his tail off. And when the Cat goes full Carmen Miranda, it\\'s not funny. Possibly his only funny disguise is as a hippie activist. And there\\'s a fish who tries warning the kids about the Cat.<br /><br />Too bad he didn\\'t warn us this film was as much fun as sour milk, or chopping your tail off.<br /><br />Soon the kids are outside looking for the family dog, who has the key to a crate on his collar. If the crate is not locked soon, their house will be home to the Cat\\'s universe. Here it gets a little more interesting, but not enough to save the film.<br /><br />The acting, overall, is horrible. Mike Meyers brings his brand of irreverent Austin Powers humor to the Cat, Saying things like \"You dirty ho\" and imagining himself as a woman for the rest of his life after a whack in the testicles while posing as a pinata. Spencer Breslin is great as the trouble-making Conrad, and Dakota Fanning is cute as Sally, though they alone are not enough to save this horrendous Aortic Dissection waiting to kill John Ritter(accident waiting to happen). Alec Baldwin\\'s slick and slimey Lawrence Quinn is disgusting, ever trying to woo the kids mom, who is played by Kelly Preston. And Sean Hayes is Mr. Humberfloob, Mom\\'s boss, and is also the voice of the fish. The latter three are also bland.<br /><br />Overall, if I were a parent I would not take my kids who are into potty humor, cause there\\'s plenty of it and more. Save your $7.00 and see something else. As the late great Dr. Seuss once said,<br /><br />It is fun to have fun, But you have to know how. Really, Universal, stop! Theodore\\'s already turning over in his grave.<br /><br />Like my Mom always says, \"Curiousity killed the Cat\".- The Cat In The Hat * out of *****']\n",
            "\n",
            "labels:  [1 1 0]\n"
          ]
        }
      ],
      "source": [
        "BUFFER_SIZE = 10000\n",
        "BATCH_SIZE = 64\n",
        "\n",
        "train_dataset = train_dataset.shuffle(BUFFER_SIZE).batch(BATCH_SIZE).prefetch(tf.data.AUTOTUNE)\n",
        "test_dataset = test_dataset.batch(BATCH_SIZE).prefetch(tf.data.AUTOTUNE)\n",
        "\n",
        "for example, label in train_dataset.take(1):\n",
        "  print('texts: ', example.numpy()[:3])\n",
        "  print()\n",
        "  print('labels: ', label.numpy()[:3])"
      ]
    },
    {
      "cell_type": "markdown",
      "metadata": {
        "id": "Udussq4vMW4N"
      },
      "source": [
        "**Step 3 - Create a Text Encoder**\n",
        "Raw text loaded by tfds needs to be processed before it can be used in a model. The easiest way to preprocess text for training is to use the TextVectorization layer. This layer has many capabilities, but in this tutorial, we are using the default behavior. Create this layer and pass the text dataset to the layer's .adapt method:\n"
      ]
    },
    {
      "cell_type": "code",
      "execution_count": null,
      "metadata": {
        "id": "sKIUfwkMMcOH"
      },
      "outputs": [],
      "source": [
        "VOCAB_SIZE = 1000\n",
        "encoder = tf.keras.layers.TextVectorization(\n",
        "    max_tokens=VOCAB_SIZE)\n",
        "encoder.adapt(train_dataset.map(lambda text, label: text))"
      ]
    },
    {
      "cell_type": "markdown",
      "metadata": {
        "id": "QCpH_Z4RMhnF"
      },
      "source": [
        "The .adapt method sets the layer's vocabulary. The first 20 tokens can be seen with the following code. After padding and unknown tokens, they are sorted by frequency:"
      ]
    },
    {
      "cell_type": "code",
      "execution_count": null,
      "metadata": {
        "colab": {
          "base_uri": "https://localhost:8080/"
        },
        "id": "IbY5jy4hMl9f",
        "outputId": "24a8f06c-3836-49e0-ea4f-4ac409944962"
      },
      "outputs": [
        {
          "output_type": "execute_result",
          "data": {
            "text/plain": [
              "array(['', '[UNK]', 'the', 'and', 'a', 'of', 'to', 'is', 'in', 'it', 'i',\n",
              "       'this', 'that', 'br', 'was', 'as', 'for', 'with', 'movie', 'but'],\n",
              "      dtype='<U14')"
            ]
          },
          "metadata": {},
          "execution_count": 7
        }
      ],
      "source": [
        "vocab = np.array(encoder.get_vocabulary())\n",
        "vocab[:20]"
      ]
    },
    {
      "cell_type": "markdown",
      "metadata": {
        "id": "6rgMOg3-nHN0"
      },
      "source": [
        "Once the vocabulary is set, the layer can encode text into indices. The index tensor is padded with 0s to the longest sequence in the batch (unless if you set output_sequence_length fixed):"
      ]
    },
    {
      "cell_type": "code",
      "execution_count": null,
      "metadata": {
        "colab": {
          "base_uri": "https://localhost:8080/"
        },
        "id": "6mYCzh0FndGs",
        "outputId": "2a078910-dd98-475f-c1c5-3f8f343a6674"
      },
      "outputs": [
        {
          "output_type": "execute_result",
          "data": {
            "text/plain": [
              "array([[ 48,   7,  57, ...,   0,   0,   0],\n",
              "       [ 11,  14, 154, ...,   0,   0,   0],\n",
              "       [  2,   1,  14, ...,   0,   0,   0]])"
            ]
          },
          "metadata": {},
          "execution_count": 8
        }
      ],
      "source": [
        "encoded_example = encoder(example)[:3].numpy()\n",
        "encoded_example"
      ]
    },
    {
      "cell_type": "markdown",
      "metadata": {
        "id": "ApKCAAEonhY8"
      },
      "source": [
        "With the default settings, the process cannot be fully reversed. There are two main reasons for this:\n",
        "- The default value for the standardization argument of preprocessing.TextVectorization is \"lower_and_strip_punctuation\".\n",
        "- The limited vocabulary size and the lack of character-based fallback result in some unknown tokens."
      ]
    },
    {
      "cell_type": "code",
      "execution_count": null,
      "metadata": {
        "colab": {
          "base_uri": "https://localhost:8080/"
        },
        "id": "b2PFw__jnmQf",
        "outputId": "727efe02-983a-4ebb-e14a-0792988b0b87"
      },
      "outputs": [
        {
          "output_type": "stream",
          "name": "stdout",
          "text": [
            "Original:  b\"There is no denying that Ealing comedies are good, but for me this film stands out as one of the best.<br /><br />The basic premise of the film is that a small part of Pimlico in London is discovered to be part of Burgundy, not the UK. We then follow the lives of the residents in their battle to keep the treasure found after the bomb explodes, and keep out the black market traders who soon realise that being exempt from UK law, rationing does not exist. When they become prisoners in their own street because the government has decided to close the boarder we see them fight back against the system.<br /><br />They are forced to ration water and food in their stand for what is right. In fact becoming worse off than they were before it all started, that's where the moral comes in. It's when they loose all the food that they think they are beaten and call for a surrender, only to have the whole of London respond to their plight by sending food, lot's of it. Thus enabling them to continue their struggle.<br /><br />This film hit's the right note throughout, the acting is superb, with Stanley Holloway, Margaret Rutherford, Hermione Baddeley and Betty Warren standing out. It's pitched just right, not too sentimental and the moral of the story not forced down your throat. Well worth a viewing\"\n",
            "Round-trip:  there is no [UNK] that [UNK] [UNK] are good but for me this film [UNK] out as one of the [UNK] br the [UNK] premise of the film is that a small part of [UNK] in [UNK] is [UNK] to be part of [UNK] not the [UNK] we then follow the lives of the [UNK] in their battle to keep the [UNK] found after the [UNK] [UNK] and keep out the black [UNK] [UNK] who soon [UNK] that being [UNK] from [UNK] [UNK] [UNK] does not [UNK] when they become [UNK] in their own street because the [UNK] has decided to close the [UNK] we see them fight back against the [UNK] br they are forced to [UNK] [UNK] and [UNK] in their stand for what is right in fact [UNK] worse off than they were before it all started thats where the [UNK] comes in its when they [UNK] all the [UNK] that they think they are [UNK] and call for a [UNK] only to have the whole of [UNK] [UNK] to their [UNK] by [UNK] [UNK] lots of it [UNK] [UNK] them to [UNK] their [UNK] br this film [UNK] the right note throughout the acting is superb with [UNK] [UNK] [UNK] [UNK] [UNK] [UNK] and [UNK] [UNK] [UNK] out its [UNK] just right not too [UNK] and the [UNK] of the story not forced down your [UNK] well worth a viewing                                                                                                                                                                                                                                                                                                                                                                                                                                                                                                                                                                                                                                                                                                                                                                                             \n",
            "\n",
            "Original:  b'This was another great Tom Berenger movie.. But some people are right it was like another SGT BARNES character but it was still awsome.. Tom Berenger played a great sniper in the jungles Of Panama! Billy Zane was a wuss at first just like Cpl Upham from Saving Private Ryan but then he got a little more aggresive in the end! Sniper was awsome and action buffs should watch it.. I remind you it wouldnt have as much action as a reg action flick.. i got this one on DVD too and it is excellent!'\n",
            "Round-trip:  this was another great tom [UNK] movie but some people are right it was like another [UNK] [UNK] character but it was still [UNK] tom [UNK] played a great [UNK] in the [UNK] of [UNK] [UNK] [UNK] was a [UNK] at first just like [UNK] [UNK] from [UNK] [UNK] [UNK] but then he got a little more [UNK] in the end [UNK] was [UNK] and action [UNK] should watch it i [UNK] you it wouldnt have as much action as a [UNK] action flick i got this one on dvd too and it is excellent                                                                                                                                                                                                                                                                                                                                                                                                                                                                                                                                                                                                                                                                                                                                                                                                                                                                                                                                        \n",
            "\n",
            "Original:  b'The sun was not shining, it was too wet to play, so I went to the movies, that cold, cold, wet date day.<br /><br />\"The Cat in the Hat\" was the name of the flick, and when it was over, my stomach was sick.<br /><br />Mike Myers played the Cat, his humor was lame, and kids needn\\'t see this, the humor was not tame.<br /><br />the film was like drinking milk, from a rabid cow, so it IS fun to have fun, yet the filmmakers didn\\'t know how.<br /><br />This film, in short is atrocious. The acting was bad, the plot was tweaked too much, and the humor was surprisingly very crude.<br /><br />It starts with Conrad and Sally, A rule breaker and a future sheriff. When their Mother has to go to work, she gets Mrs. Kwan to babysit. Possibly the lone funny part in the movie is when Mrs. Kwan is watching a Taiwanese court room, a `la C-SPAN. She soon falls asleep, and here comes the Cat.<br /><br />The film starts to spiral out of control. The Cat came to try to let the kids have some fun. He\\'s got Thing 1 and Thing 2, Who suddenly start trashing the house. He improvises a TV Infomercial, and accidentally slices his tail off. And when the Cat goes full Carmen Miranda, it\\'s not funny. Possibly his only funny disguise is as a hippie activist. And there\\'s a fish who tries warning the kids about the Cat.<br /><br />Too bad he didn\\'t warn us this film was as much fun as sour milk, or chopping your tail off.<br /><br />Soon the kids are outside looking for the family dog, who has the key to a crate on his collar. If the crate is not locked soon, their house will be home to the Cat\\'s universe. Here it gets a little more interesting, but not enough to save the film.<br /><br />The acting, overall, is horrible. Mike Meyers brings his brand of irreverent Austin Powers humor to the Cat, Saying things like \"You dirty ho\" and imagining himself as a woman for the rest of his life after a whack in the testicles while posing as a pinata. Spencer Breslin is great as the trouble-making Conrad, and Dakota Fanning is cute as Sally, though they alone are not enough to save this horrendous Aortic Dissection waiting to kill John Ritter(accident waiting to happen). Alec Baldwin\\'s slick and slimey Lawrence Quinn is disgusting, ever trying to woo the kids mom, who is played by Kelly Preston. And Sean Hayes is Mr. Humberfloob, Mom\\'s boss, and is also the voice of the fish. The latter three are also bland.<br /><br />Overall, if I were a parent I would not take my kids who are into potty humor, cause there\\'s plenty of it and more. Save your $7.00 and see something else. As the late great Dr. Seuss once said,<br /><br />It is fun to have fun, But you have to know how. Really, Universal, stop! Theodore\\'s already turning over in his grave.<br /><br />Like my Mom always says, \"Curiousity killed the Cat\".- The Cat In The Hat * out of *****'\n",
            "Round-trip:  the [UNK] was not [UNK] it was too [UNK] to play so i went to the movies that [UNK] [UNK] [UNK] [UNK] [UNK] br the [UNK] in the [UNK] was the name of the flick and when it was over my [UNK] was [UNK] br [UNK] [UNK] played the [UNK] his humor was lame and kids [UNK] see this the humor was not [UNK] br the film was like [UNK] [UNK] from a [UNK] [UNK] so it is fun to have fun yet the filmmakers didnt know [UNK] br this film in short is [UNK] the acting was bad the plot was [UNK] too much and the humor was [UNK] very [UNK] br it starts with [UNK] and [UNK] a [UNK] [UNK] and a future [UNK] when their mother has to go to work she gets [UNK] [UNK] to [UNK] possibly the [UNK] funny part in the movie is when [UNK] [UNK] is watching a [UNK] [UNK] room a la [UNK] she soon falls [UNK] and here comes the [UNK] br the film starts to [UNK] out of [UNK] the [UNK] came to try to let the kids have some fun hes got thing 1 and thing 2 who [UNK] start [UNK] the house he [UNK] a tv [UNK] and [UNK] [UNK] his [UNK] off and when the [UNK] goes full [UNK] [UNK] its not funny possibly his only funny [UNK] is as a [UNK] [UNK] and theres a [UNK] who tries [UNK] the kids about the [UNK] br too bad he didnt [UNK] us this film was as much fun as [UNK] [UNK] or [UNK] your [UNK] [UNK] br soon the kids are outside looking for the family dog who has the [UNK] to a [UNK] on his [UNK] if the [UNK] is not [UNK] soon their house will be home to the [UNK] [UNK] here it gets a little more interesting but not enough to save the filmbr br the acting overall is horrible [UNK] [UNK] brings his [UNK] of [UNK] [UNK] [UNK] humor to the [UNK] saying things like you [UNK] [UNK] and [UNK] himself as a woman for the rest of his life after a [UNK] in the [UNK] while [UNK] as a [UNK] [UNK] [UNK] is great as the [UNK] [UNK] and [UNK] [UNK] is [UNK] as [UNK] though they alone are not enough to save this [UNK] [UNK] [UNK] [UNK] to kill john [UNK] [UNK] to happen [UNK] [UNK] [UNK] and [UNK] [UNK] [UNK] is [UNK] ever trying to [UNK] the kids [UNK] who is played by [UNK] [UNK] and [UNK] [UNK] is mr [UNK] [UNK] [UNK] and is also the voice of the [UNK] the [UNK] three are also [UNK] br overall if i were a [UNK] i would not take my kids who are into [UNK] humor [UNK] theres plenty of it and more save your [UNK] and see something else as the late great dr [UNK] once [UNK] br it is fun to have fun but you have to know how really [UNK] stop [UNK] already [UNK] over in his [UNK] br like my [UNK] always says [UNK] killed the [UNK] the [UNK] in the [UNK] out of                                                                                                                                                                                                                                                                                                                                                                                                                                                                                        \n",
            "\n"
          ]
        }
      ],
      "source": [
        "for n in range(3):\n",
        "  print(\"Original: \", example[n].numpy())\n",
        "  print(\"Round-trip: \", \" \".join(vocab[encoded_example[n]]))\n",
        "  print()"
      ]
    },
    {
      "cell_type": "markdown",
      "metadata": {
        "id": "hQjv4-9Hnlmt"
      },
      "source": [
        "**Step 4 - Create a Model**\n",
        "\n",
        "The model diagram can be seen in the image above:\n",
        "1. This model can be created as tf.keras.Sequential.\n",
        "2. The first layer is the encoder, which converts text into a sequence of token indices.\n",
        "3. Following the encoder is the embedding layer. The embedding layer stores one vector per word. When called, it transforms a sequence of word indices into a sequence of vectors. These vectors can be trained. After training (with enough data), words with similar meanings often have similar vectors. This indexing operation is much more efficient than equivalent operations performed on one-hot encoded vectors passed through a tf.keras.layers.Dense layer.\n",
        "4. The Recurrent Neural Network (RNN) processes the input sequence by iterating through its elements. The RNN passes the output from one time step to its input in the next time step. A tf.keras.layers.Bidirectional wrapper can also be used with the RNN layer. This propagates the input forward and backward through the RNN layer and then combines the final output. The main advantage of bidirectional RNNs is that signals from the beginning of the input do not have to be processed all the way through to affect the output. The main disadvantage of bidirectional RNNs is that you cannot perform efficient streaming predictions as words are added at the end.\n",
        "5. After the RNN converts the sequence to a single vector, both Dense layers perform some final processing, and convert this vector representation into a single logit as the classification output."
      ]
    },
    {
      "cell_type": "code",
      "execution_count": null,
      "metadata": {
        "id": "PuWZuBJvoBIe"
      },
      "outputs": [],
      "source": [
        "model = tf.keras.Sequential([\n",
        "    encoder,\n",
        "    tf.keras.layers.Embedding(\n",
        "        input_dim=len(encoder.get_vocabulary()),\n",
        "        output_dim=64,\n",
        "        # Use masking to handle the variable sequence lengths\n",
        "        mask_zero=True),\n",
        "    tf.keras.layers.Bidirectional(tf.keras.layers.LSTM(64)),\n",
        "    tf.keras.layers.Dense(64, activation='relu'),\n",
        "    tf.keras.layers.Dense(1)\n",
        "])"
      ]
    },
    {
      "cell_type": "markdown",
      "metadata": {
        "id": "DIH7k7_4oFL_"
      },
      "source": [
        "Please note that a Keras Sequential model is used here because all the layers in the model have a single input and produce a single output. If you want to use stateful RNN layers, you might want to build your model using the Keras functional API or model subclassing so you can capture and reuse the state of RNN layers. For details, you can refer to the Keras RNN guide.\n",
        "\n",
        "The embedding layer uses masking (uses masking) to handle varying sequence lengths. All layers after the embedding support masking."
      ]
    },
    {
      "cell_type": "code",
      "execution_count": null,
      "metadata": {
        "colab": {
          "base_uri": "https://localhost:8080/"
        },
        "id": "QJyRGewsoC5N",
        "outputId": "d7cf4696-8545-4ef4-e592-ea2d4558539a"
      },
      "outputs": [
        {
          "output_type": "stream",
          "name": "stdout",
          "text": [
            "[False, True, True, True, True]\n"
          ]
        }
      ],
      "source": [
        "print([layer.supports_masking for layer in model.layers])"
      ]
    },
    {
      "cell_type": "markdown",
      "metadata": {
        "id": "0bcxAZ1ZoJCe"
      },
      "source": [
        "To ensure this works as expected, evaluate a sentence twice. First, a single sentence with no padding to mask:"
      ]
    },
    {
      "cell_type": "code",
      "execution_count": null,
      "metadata": {
        "colab": {
          "base_uri": "https://localhost:8080/"
        },
        "id": "W5QfAFpJoK1F",
        "outputId": "4031e2c7-b7de-42d9-c5b0-9684cc4d4fdd"
      },
      "outputs": [
        {
          "output_type": "stream",
          "name": "stdout",
          "text": [
            "1/1 [==============================] - 8s 8s/step\n",
            "[0.01561446]\n"
          ]
        }
      ],
      "source": [
        "# predict on a sample text without padding.\n",
        "\n",
        "sample_text = ('The movie was cool. The animation and the graphics '\n",
        "               'were out of this world. I would recommend this movie.')\n",
        "predictions = model.predict(np.array([sample_text]))\n",
        "print(predictions[0])"
      ]
    },
    {
      "cell_type": "markdown",
      "metadata": {
        "id": "s8LSrO48oMKe"
      },
      "source": [
        "Now, evaluate again in a batch with longer sentences. The result should be the same:"
      ]
    },
    {
      "cell_type": "code",
      "execution_count": null,
      "metadata": {
        "colab": {
          "base_uri": "https://localhost:8080/"
        },
        "id": "0upq8ZCCoN65",
        "outputId": "e8ea8bb2-cece-460d-d54f-f93dcf13e7fc"
      },
      "outputs": [
        {
          "output_type": "stream",
          "name": "stdout",
          "text": [
            "1/1 [==============================] - 0s 78ms/step\n",
            "[0.01561447]\n"
          ]
        }
      ],
      "source": [
        "# predict on a sample text with padding\n",
        "\n",
        "padding = \"the \" * 2000\n",
        "predictions = model.predict(np.array([sample_text, padding]))\n",
        "print(predictions[0])"
      ]
    },
    {
      "cell_type": "markdown",
      "metadata": {
        "id": "Yye3SZVCoPZj"
      },
      "source": [
        "Compile the Keras model to configure the training process:"
      ]
    },
    {
      "cell_type": "code",
      "execution_count": null,
      "metadata": {
        "id": "PqOwYvLioRmC"
      },
      "outputs": [],
      "source": [
        "model.compile(loss=tf.keras.losses.BinaryCrossentropy(from_logits=True),\n",
        "              optimizer=tf.keras.optimizers.Adam(1e-4),\n",
        "              metrics=['accuracy'])"
      ]
    },
    {
      "cell_type": "markdown",
      "metadata": {
        "id": "Mo7s7JAOoWlz"
      },
      "source": [
        "**Step 5 - Train Model**"
      ]
    },
    {
      "cell_type": "code",
      "execution_count": null,
      "metadata": {
        "colab": {
          "base_uri": "https://localhost:8080/"
        },
        "id": "lFtWU42YoUW_",
        "outputId": "94886ed0-783d-42e6-e983-25f2fca3a78a"
      },
      "outputs": [
        {
          "output_type": "stream",
          "name": "stdout",
          "text": [
            "Epoch 1/10\n",
            "391/391 [==============================] - 49s 98ms/step - loss: 0.6361 - accuracy: 0.5859 - val_loss: 0.4795 - val_accuracy: 0.7734\n",
            "Epoch 2/10\n",
            "391/391 [==============================] - 25s 63ms/step - loss: 0.4023 - accuracy: 0.8186 - val_loss: 0.3695 - val_accuracy: 0.8438\n",
            "Epoch 3/10\n",
            "391/391 [==============================] - 24s 61ms/step - loss: 0.3404 - accuracy: 0.8488 - val_loss: 0.3429 - val_accuracy: 0.8484\n",
            "Epoch 4/10\n",
            "391/391 [==============================] - 24s 62ms/step - loss: 0.3216 - accuracy: 0.8602 - val_loss: 0.3330 - val_accuracy: 0.8484\n",
            "Epoch 5/10\n",
            "391/391 [==============================] - 24s 62ms/step - loss: 0.3157 - accuracy: 0.8640 - val_loss: 0.3529 - val_accuracy: 0.8573\n",
            "Epoch 6/10\n",
            "391/391 [==============================] - 27s 68ms/step - loss: 0.3082 - accuracy: 0.8668 - val_loss: 0.3305 - val_accuracy: 0.8578\n",
            "Epoch 7/10\n",
            "391/391 [==============================] - 24s 61ms/step - loss: 0.3049 - accuracy: 0.8676 - val_loss: 0.3229 - val_accuracy: 0.8573\n",
            "Epoch 8/10\n",
            "391/391 [==============================] - 24s 61ms/step - loss: 0.3026 - accuracy: 0.8700 - val_loss: 0.3236 - val_accuracy: 0.8536\n",
            "Epoch 9/10\n",
            "391/391 [==============================] - 26s 65ms/step - loss: 0.3033 - accuracy: 0.8701 - val_loss: 0.3357 - val_accuracy: 0.8620\n",
            "Epoch 10/10\n",
            "391/391 [==============================] - 25s 62ms/step - loss: 0.3024 - accuracy: 0.8693 - val_loss: 0.3208 - val_accuracy: 0.8552\n"
          ]
        }
      ],
      "source": [
        "history = model.fit(train_dataset, epochs=10,\n",
        "                    validation_data=test_dataset,\n",
        "                    validation_steps=30)"
      ]
    },
    {
      "cell_type": "code",
      "execution_count": null,
      "metadata": {
        "id": "1qEhWxshoabx",
        "colab": {
          "base_uri": "https://localhost:8080/"
        },
        "outputId": "30cbd663-7a87-4d3c-93ea-1db6c5374656"
      },
      "outputs": [
        {
          "output_type": "stream",
          "name": "stdout",
          "text": [
            "391/391 [==============================] - 11s 28ms/step - loss: 0.3154 - accuracy: 0.8577\n",
            "Test Loss: 0.3154299259185791\n",
            "Test Accuracy: 0.8577200174331665\n"
          ]
        }
      ],
      "source": [
        "test_loss, test_acc = model.evaluate(test_dataset)\n",
        "\n",
        "print('Test Loss:', test_loss)\n",
        "print('Test Accuracy:', test_acc)"
      ]
    },
    {
      "cell_type": "code",
      "execution_count": null,
      "metadata": {
        "id": "rFRN02b2ocC6",
        "colab": {
          "base_uri": "https://localhost:8080/",
          "height": 413
        },
        "outputId": "1ec054e2-83b9-4537-deff-b82bde3b2258"
      },
      "outputs": [
        {
          "output_type": "execute_result",
          "data": {
            "text/plain": [
              "(0.0, 0.6528135344386101)"
            ]
          },
          "metadata": {},
          "execution_count": 17
        },
        {
          "output_type": "display_data",
          "data": {
            "text/plain": [
              "<Figure size 1600x800 with 2 Axes>"
            ],
            "image/png": "[encoded data removed]"
          },
          "metadata": {}
        }
      ],
      "source": [
        "plt.figure(figsize=(16, 8))\n",
        "plt.subplot(1, 2, 1)\n",
        "plot_graphs(history, 'accuracy')\n",
        "plt.ylim(None, 1)\n",
        "plt.subplot(1, 2, 2)\n",
        "plot_graphs(history, 'loss')\n",
        "plt.ylim(0, None)"
      ]
    },
    {
      "cell_type": "markdown",
      "metadata": {
        "id": "jrsgqAtKoYcI"
      },
      "source": [
        "Run predictions on a new sentence: If the prediction is >= 0.0, it's positive; otherwise, it's negative."
      ]
    },
    {
      "cell_type": "code",
      "execution_count": null,
      "metadata": {
        "id": "4pvAlTqbof7m",
        "colab": {
          "base_uri": "https://localhost:8080/"
        },
        "outputId": "24273970-60b9-444d-a674-68ace874f677"
      },
      "outputs": [
        {
          "output_type": "stream",
          "name": "stdout",
          "text": [
            "1/1 [==============================] - 3s 3s/step\n"
          ]
        }
      ],
      "source": [
        "sample_text = ('The movie was cool. The animation and the graphics '\n",
        "               'were out of this world. I would recommend this movie.')\n",
        "predictions = model.predict(np.array([sample_text]))"
      ]
    },
    {
      "cell_type": "markdown",
      "metadata": {
        "id": "OXmj4tq_oio5"
      },
      "source": [
        "Keras RNN layers have two modes available, which are controlled by the return_sequences constructor argument:\n",
        "- If False, it only returns the last output for each input sequence (a 2D tensor shape (batch_size, output_features)). This is the default used in the previous model.\n",
        "- If True, it returns the full sequence of outputs for each time step (a 3D tensor shape (batch_size, time_steps, output_features)).\n",
        "\n",
        "Here is the information flow with return_sequences=True:"
      ]
    },
    {
      "cell_type": "markdown",
      "metadata": {
        "id": "jevOb2dJonbp"
      },
      "source": [
        "One interesting aspect of using RNNs with return_sequences=True is that the output still has 3 axes, just like the input, so it can be passed to other RNN layers, like this:"
      ]
    },
    {
      "cell_type": "code",
      "execution_count": null,
      "metadata": {
        "id": "evO6jYjsopNb"
      },
      "outputs": [],
      "source": [
        "model = tf.keras.Sequential([\n",
        "    encoder,\n",
        "    tf.keras.layers.Embedding(len(encoder.get_vocabulary()), 64, mask_zero=True),\n",
        "    tf.keras.layers.Bidirectional(tf.keras.layers.LSTM(64, return_sequences=True)),\n",
        "    tf.keras.layers.Bidirectional(tf.keras.layers.LSTM(32)),\n",
        "    tf.keras.layers.Dense(64, activation='relu'),\n",
        "    tf.keras.layers.Dropout(0.5),\n",
        "    tf.keras.layers.Dense(1)\n",
        "])\n"
      ]
    },
    {
      "cell_type": "code",
      "execution_count": null,
      "metadata": {
        "id": "_UqCBn3YorFK"
      },
      "outputs": [],
      "source": [
        "model.compile(loss=tf.keras.losses.BinaryCrossentropy(from_logits=True),\n",
        "              optimizer=tf.keras.optimizers.Adam(1e-4),\n",
        "              metrics=['accuracy'])"
      ]
    },
    {
      "cell_type": "code",
      "execution_count": null,
      "metadata": {
        "id": "UUBe036bosg6",
        "colab": {
          "base_uri": "https://localhost:8080/"
        },
        "outputId": "535319ff-563b-40ea-cc1a-471000ac7512"
      },
      "outputs": [
        {
          "output_type": "stream",
          "name": "stdout",
          "text": [
            "Epoch 1/10\n",
            "391/391 [==============================] - 77s 149ms/step - loss: 0.6156 - accuracy: 0.5979 - val_loss: 0.4338 - val_accuracy: 0.8167\n",
            "Epoch 2/10\n",
            "391/391 [==============================] - 47s 120ms/step - loss: 0.3883 - accuracy: 0.8300 - val_loss: 0.3525 - val_accuracy: 0.8391\n",
            "Epoch 3/10\n",
            "391/391 [==============================] - 46s 118ms/step - loss: 0.3377 - accuracy: 0.8538 - val_loss: 0.3363 - val_accuracy: 0.8526\n",
            "Epoch 4/10\n",
            "391/391 [==============================] - 47s 120ms/step - loss: 0.3206 - accuracy: 0.8616 - val_loss: 0.3266 - val_accuracy: 0.8536\n",
            "Epoch 5/10\n",
            "391/391 [==============================] - 45s 113ms/step - loss: 0.3122 - accuracy: 0.8664 - val_loss: 0.3315 - val_accuracy: 0.8458\n",
            "Epoch 6/10\n",
            "391/391 [==============================] - 45s 114ms/step - loss: 0.3065 - accuracy: 0.8706 - val_loss: 0.3194 - val_accuracy: 0.8578\n",
            "Epoch 7/10\n",
            "391/391 [==============================] - 46s 116ms/step - loss: 0.3076 - accuracy: 0.8690 - val_loss: 0.3349 - val_accuracy: 0.8568\n",
            "Epoch 8/10\n",
            "391/391 [==============================] - 45s 115ms/step - loss: 0.3055 - accuracy: 0.8693 - val_loss: 0.3316 - val_accuracy: 0.8333\n",
            "Epoch 9/10\n",
            "391/391 [==============================] - 45s 115ms/step - loss: 0.2980 - accuracy: 0.8724 - val_loss: 0.3203 - val_accuracy: 0.8599\n",
            "Epoch 10/10\n",
            "391/391 [==============================] - 53s 136ms/step - loss: 0.2962 - accuracy: 0.8737 - val_loss: 0.3272 - val_accuracy: 0.8385\n"
          ]
        }
      ],
      "source": [
        "history = model.fit(train_dataset, epochs=10,\n",
        "                    validation_data=test_dataset,\n",
        "                    validation_steps=30)\n"
      ]
    },
    {
      "cell_type": "code",
      "execution_count": null,
      "metadata": {
        "id": "pH94N0PSot7L",
        "colab": {
          "base_uri": "https://localhost:8080/"
        },
        "outputId": "6eeff91c-9540-4985-f56e-38274943d05b"
      },
      "outputs": [
        {
          "output_type": "stream",
          "name": "stdout",
          "text": [
            "391/391 [==============================] - 19s 49ms/step - loss: 0.3239 - accuracy: 0.8430\n",
            "Test Loss: 0.3239414393901825\n",
            "Test Accuracy: 0.842960000038147\n"
          ]
        }
      ],
      "source": [
        "test_loss, test_acc = model.evaluate(test_dataset)\n",
        "\n",
        "print('Test Loss:', test_loss)\n",
        "print('Test Accuracy:', test_acc)"
      ]
    },
    {
      "cell_type": "code",
      "execution_count": null,
      "metadata": {
        "id": "SRi2G0z9ov-z",
        "colab": {
          "base_uri": "https://localhost:8080/"
        },
        "outputId": "dabd92f4-fa86-4467-87ee-128f9e0c65f9"
      },
      "outputs": [
        {
          "output_type": "stream",
          "name": "stdout",
          "text": [
            "1/1 [==============================] - 6s 6s/step\n",
            "[[-2.1635895]]\n"
          ]
        }
      ],
      "source": [
        "# predict on a sample text without padding.\n",
        "# Assuming encoder is your text encoder\n",
        "sample_text = ('The movie was not good. The animation and the graphics '\n",
        "               'were terrible. I would not recommend this movie.')\n",
        "\n",
        "# Predict on the preprocessed sample text\n",
        "predictions = model.predict(np.array([sample_text]))\n",
        "print(predictions)\n"
      ]
    },
    {
      "cell_type": "code",
      "execution_count": null,
      "metadata": {
        "id": "wgXnJqsjoxu1",
        "colab": {
          "base_uri": "https://localhost:8080/",
          "height": 307
        },
        "outputId": "d9a44e87-8b81-471c-d288-e916348b4392"
      },
      "outputs": [
        {
          "output_type": "display_data",
          "data": {
            "text/plain": [
              "<Figure size 1600x600 with 2 Axes>"
            ],
            "image/png": "[encoded data removed]"
          },
          "metadata": {}
        }
      ],
      "source": [
        "plt.figure(figsize=(16, 6))\n",
        "plt.subplot(1, 2, 1)\n",
        "plot_graphs(history, 'accuracy')\n",
        "plt.subplot(1, 2, 2)\n",
        "plot_graphs(history, 'loss')"
      ]
    },
    {
      "cell_type": "markdown",
      "metadata": {
        "id": "B1qIGUQOMzRo"
      },
      "source": [
        "----\n",
        "###**⋰˚☆LAB WORK 2⋰˚☆**\n",
        "###Text Generator with RNN\n",
        "This lab demonstrates how to perform text generation using an RNN. The dataset used is Shakespeare's writing from Andrej Karpathy's The Unreasonable Effectiveness of Recurrent Neural Networks. Given a sequence of characters from this data ('Shakespear'), train a model to predict the next character in the sequence ('e'). Longer text sequences can be generated by repeatedly calling the model.\n",
        "\n",
        "Note: Enable GPU acceleration to execute this notebook faster. In Colab: Runtime > Change runtime type > Hardware accelerator > GPU.\n",
        "\n",
        "This tutorial uses tf.keras and eager execution. Here is an example output when the model in this tutorial is trained for 30 epochs, starting with the prompt 'Q':"
      ]
    },
    {
      "cell_type": "markdown",
      "source": [
        "**Step 1 - Setup**"
      ],
      "metadata": {
        "id": "4ARtWJoADQmN"
      }
    },
    {
      "cell_type": "code",
      "source": [
        "# Import TenserFlow\n",
        "import tensorflow as tf\n",
        "import numpy as np\n",
        "import os\n",
        "import time"
      ],
      "metadata": {
        "id": "fuGQ0c-WDKD-"
      },
      "execution_count": null,
      "outputs": []
    },
    {
      "cell_type": "markdown",
      "source": [
        "**Step 2 - Download Dataset Shakespeare**"
      ],
      "metadata": {
        "id": "oWT4IqhPDsU2"
      }
    },
    {
      "cell_type": "code",
      "source": [
        "# Adjust to the location of the data you have.\n",
        "path_to_file = tf.keras.utils.get_file('shakespeare.txt', 'https://storage.googleapis.com/download.tensorflow.org/data/shakespeare.txt')\n"
      ],
      "metadata": {
        "id": "77WLLLxuDxZ9"
      },
      "execution_count": null,
      "outputs": []
    },
    {
      "cell_type": "markdown",
      "source": [
        "**Step 3 - Load Data**"
      ],
      "metadata": {
        "id": "9xbwlzHHEB2F"
      }
    },
    {
      "cell_type": "code",
      "source": [
        "# Read, then decode for py2 compat.\n",
        "text = open(path_to_file, 'rb').read().decode(encoding='utf-8')\n",
        "# length of text is the number of characters in it\n",
        "print(f'Length of text: {len(text)} characters')"
      ],
      "metadata": {
        "colab": {
          "base_uri": "https://localhost:8080/"
        },
        "id": "GeOG8YmkEHYu",
        "outputId": "54577e33-d917-4395-c9f6-765750e0c005"
      },
      "execution_count": null,
      "outputs": [
        {
          "output_type": "stream",
          "name": "stdout",
          "text": [
            "Length of text: 1115394 characters\n"
          ]
        }
      ]
    },
    {
      "cell_type": "code",
      "source": [
        "# Take a look at the first 250 characters in text\n",
        "print(text[:250])"
      ],
      "metadata": {
        "colab": {
          "base_uri": "https://localhost:8080/"
        },
        "id": "-jc8FPJmENTS",
        "outputId": "25522f50-314f-4ff9-9a56-c6eca8a559cf"
      },
      "execution_count": null,
      "outputs": [
        {
          "output_type": "stream",
          "name": "stdout",
          "text": [
            "First Citizen:\n",
            "Before we proceed any further, hear me speak.\n",
            "\n",
            "All:\n",
            "Speak, speak.\n",
            "\n",
            "First Citizen:\n",
            "You are all resolved rather to die than to famish?\n",
            "\n",
            "All:\n",
            "Resolved. resolved.\n",
            "\n",
            "First Citizen:\n",
            "First, you know Caius Marcius is chief enemy to the people.\n",
            "\n"
          ]
        }
      ]
    },
    {
      "cell_type": "code",
      "source": [
        "# The unique characters in the file\n",
        "vocab = sorted(set(text))\n",
        "print(f'{len(vocab)} unique characters')"
      ],
      "metadata": {
        "colab": {
          "base_uri": "https://localhost:8080/"
        },
        "id": "I1lwRRjIETQW",
        "outputId": "7e7d9d7d-cb30-4bb1-fa3e-7a07d5bc14b6"
      },
      "execution_count": null,
      "outputs": [
        {
          "output_type": "stream",
          "name": "stdout",
          "text": [
            "65 unique characters\n"
          ]
        }
      ]
    },
    {
      "cell_type": "markdown",
      "source": [
        "**Text Processing**"
      ],
      "metadata": {
        "id": "Y-MsAUbJEcKk"
      }
    },
    {
      "cell_type": "markdown",
      "source": [
        "**Step 1 - Vectorize Text**\n",
        "\n",
        "Before training, you need to convert the string into a numeric representation. tf.keras.layers.StringLookup can convert each character to a numeric ID. The way this is done is by first breaking the text into tokens."
      ],
      "metadata": {
        "id": "KXRpfCp4EgjV"
      }
    },
    {
      "cell_type": "code",
      "source": [
        "example_texts = ['abcdefg', 'xyz']\n",
        "chars = tf.strings.unicode_split(example_texts, input_encoding='UTF-8')"
      ],
      "metadata": {
        "id": "19tiSXBlEXR9"
      },
      "execution_count": null,
      "outputs": []
    },
    {
      "cell_type": "markdown",
      "source": [
        "Now create the tf.keras.layers.StringLookup layer:"
      ],
      "metadata": {
        "id": "n-jwp5kkE3k0"
      }
    },
    {
      "cell_type": "code",
      "source": [
        "ids_from_chars = tf.keras.layers.StringLookup(\n",
        "    vocabulary=list(vocab), mask_token=None)\n"
      ],
      "metadata": {
        "id": "MK793EKME4Wm"
      },
      "execution_count": null,
      "outputs": []
    },
    {
      "cell_type": "markdown",
      "source": [
        "The above command converts tokens into IDs."
      ],
      "metadata": {
        "id": "DN-6aVHKFNSh"
      }
    },
    {
      "cell_type": "code",
      "source": [
        "ids = ids_from_chars(chars)\n",
        "print(ids)"
      ],
      "metadata": {
        "colab": {
          "base_uri": "https://localhost:8080/"
        },
        "id": "ZlSJBQc5FOtT",
        "outputId": "65caef50-6191-44f7-e68d-f31ce53f8717"
      },
      "execution_count": null,
      "outputs": [
        {
          "output_type": "stream",
          "name": "stdout",
          "text": [
            "<tf.RaggedTensor [[40, 41, 42, 43, 44, 45, 46], [63, 64, 65]]>\n"
          ]
        }
      ]
    },
    {
      "cell_type": "markdown",
      "source": [
        "Since the goal of this tutorial is to generate text, it's also important to reverse this representation. For this, you can use the tf.keras.layers.StringLookup(..., invert=True) code.\n",
        "\n",
        "Note: In this code, instead of passing the original vocabulary generated with sorted(set(text)), use the get_vocabulary() method from tf.keras.layers.StringLookup so that the [UNK] token is set in the same way."
      ],
      "metadata": {
        "id": "-xr8k_HjFaTG"
      }
    },
    {
      "cell_type": "code",
      "source": [
        "chars_from_ids = tf.keras.layers.StringLookup(\n",
        "    vocabulary=ids_from_chars.get_vocabulary(), invert=True, mask_token=None)"
      ],
      "metadata": {
        "id": "8K2FHONQFZux"
      },
      "execution_count": null,
      "outputs": []
    },
    {
      "cell_type": "markdown",
      "source": [
        "This layer converts characters back from the ID vector and returns them as a tf.RaggedTensor:"
      ],
      "metadata": {
        "id": "r_2LP1dDFgJN"
      }
    },
    {
      "cell_type": "code",
      "source": [
        "chars = chars_from_ids(ids)\n",
        "chars\n"
      ],
      "metadata": {
        "colab": {
          "base_uri": "https://localhost:8080/"
        },
        "id": "MdERc7hwFhS9",
        "outputId": "6d8a6118-4794-4a8f-fa63-a43260879b01"
      },
      "execution_count": null,
      "outputs": [
        {
          "output_type": "execute_result",
          "data": {
            "text/plain": [
              "<tf.RaggedTensor [[b'a', b'b', b'c', b'd', b'e', b'f', b'g'], [b'x', b'y', b'z']]>"
            ]
          },
          "metadata": {},
          "execution_count": 37
        }
      ]
    },
    {
      "cell_type": "markdown",
      "source": [
        "You can use tf.strings.reduce_join to recombine characters into a string."
      ],
      "metadata": {
        "id": "jY55dIKiFuKz"
      }
    },
    {
      "cell_type": "code",
      "source": [
        "result = tf.strings.reduce_join(chars, axis=-1).numpy()\n",
        "print(result)"
      ],
      "metadata": {
        "colab": {
          "base_uri": "https://localhost:8080/"
        },
        "id": "WmeVChoOF7--",
        "outputId": "0644bbd1-fd92-43d8-acd1-aa01053ba63c"
      },
      "execution_count": null,
      "outputs": [
        {
          "output_type": "stream",
          "name": "stdout",
          "text": [
            "[b'abcdefg' b'xyz']\n"
          ]
        }
      ]
    },
    {
      "cell_type": "markdown",
      "source": [
        "**Step 2 - Prediction**\n",
        "\n",
        "Given a character, or a sequence of characters, what is the most likely next character? This is the task that you need to train the model to perform. The input to the model will be a sequence of characters, and you train the model to predict the output as the next character at each time step. Since the RNN maintains an internal state that depends on the elements seen so far, given all the characters computed thus far, what is the next character?"
      ],
      "metadata": {
        "id": "y-NgWGXKGFE_"
      }
    },
    {
      "cell_type": "markdown",
      "source": [
        "**Step 3 - Creating the Training Set and Target**\n",
        "\n",
        "Next, divide the text into example sequences. Each input sequence will contain seq_length characters from the text. For each input sequence, the target prediction contains the text with the same length, but shifted one character to the right. So, split the text into seq_length+1 parts. For example, if seq_length is 4 and your text is \"Hello,\" the input sequence is \"Hell,\" and the target sequence is \"ello.\" To do this, first use the tf.data.Dataset.from_tensor_slices function to convert the text vector into a stream of character indices."
      ],
      "metadata": {
        "id": "0G1c892QGKwr"
      }
    },
    {
      "cell_type": "code",
      "source": [
        "# Convert the text to token IDs using ids_from_chars layer\n",
        "all_ids = ids_from_chars(tf.strings.unicode_split(text, 'UTF-8'))\n",
        "print(all_ids)\n"
      ],
      "metadata": {
        "colab": {
          "base_uri": "https://localhost:8080/"
        },
        "id": "krhym9HQGSVz",
        "outputId": "57ebccf4-98bf-4563-af40-23589dfee943"
      },
      "execution_count": null,
      "outputs": [
        {
          "output_type": "stream",
          "name": "stdout",
          "text": [
            "tf.Tensor([19 48 57 ... 46  9  1], shape=(1115394,), dtype=int64)\n"
          ]
        }
      ]
    },
    {
      "cell_type": "code",
      "source": [
        "ids_dataset = tf.data.Dataset.from_tensor_slices(all_ids)"
      ],
      "metadata": {
        "id": "tcTV9EO9GcYG"
      },
      "execution_count": null,
      "outputs": []
    },
    {
      "cell_type": "code",
      "source": [
        "for ids in ids_dataset.take(10):\n",
        "    print(chars_from_ids(ids).numpy().decode('utf-8'))"
      ],
      "metadata": {
        "colab": {
          "base_uri": "https://localhost:8080/"
        },
        "id": "BW_xW_vhGr2h",
        "outputId": "47a4e84c-f4b4-48a9-d8cf-0d1509a2411c"
      },
      "execution_count": null,
      "outputs": [
        {
          "output_type": "stream",
          "name": "stdout",
          "text": [
            "F\n",
            "i\n",
            "r\n",
            "s\n",
            "t\n",
            " \n",
            "C\n",
            "i\n",
            "t\n",
            "i\n"
          ]
        }
      ]
    },
    {
      "cell_type": "code",
      "source": [
        "seq_length = 100"
      ],
      "metadata": {
        "id": "UrRlZFSkG3Il"
      },
      "execution_count": null,
      "outputs": []
    },
    {
      "cell_type": "markdown",
      "source": [
        "The batch method allows you to easily convert these individual characters into a desired size sequence."
      ],
      "metadata": {
        "id": "nP6fpoARG8Ap"
      }
    },
    {
      "cell_type": "code",
      "source": [
        "sequences = ids_dataset.batch(seq_length+1, drop_remainder=True)\n",
        "\n",
        "for seq in sequences.take(1):\n",
        "  print(chars_from_ids(seq))"
      ],
      "metadata": {
        "colab": {
          "base_uri": "https://localhost:8080/"
        },
        "id": "AKQ1Ee8NG8uJ",
        "outputId": "027bd3f5-e390-421c-a2bc-2accfd6a0a8a"
      },
      "execution_count": null,
      "outputs": [
        {
          "output_type": "stream",
          "name": "stdout",
          "text": [
            "tf.Tensor(\n",
            "[b'F' b'i' b'r' b's' b't' b' ' b'C' b'i' b't' b'i' b'z' b'e' b'n' b':'\n",
            " b'\\n' b'B' b'e' b'f' b'o' b'r' b'e' b' ' b'w' b'e' b' ' b'p' b'r' b'o'\n",
            " b'c' b'e' b'e' b'd' b' ' b'a' b'n' b'y' b' ' b'f' b'u' b'r' b't' b'h'\n",
            " b'e' b'r' b',' b' ' b'h' b'e' b'a' b'r' b' ' b'm' b'e' b' ' b's' b'p'\n",
            " b'e' b'a' b'k' b'.' b'\\n' b'\\n' b'A' b'l' b'l' b':' b'\\n' b'S' b'p' b'e'\n",
            " b'a' b'k' b',' b' ' b's' b'p' b'e' b'a' b'k' b'.' b'\\n' b'\\n' b'F' b'i'\n",
            " b'r' b's' b't' b' ' b'C' b'i' b't' b'i' b'z' b'e' b'n' b':' b'\\n' b'Y'\n",
            " b'o' b'u' b' '], shape=(101,), dtype=string)\n"
          ]
        }
      ]
    },
    {
      "cell_type": "markdown",
      "source": [
        "It will be easier to see what this does if you recombine the tokens back into a string:"
      ],
      "metadata": {
        "id": "3r4aaT7JHJft"
      }
    },
    {
      "cell_type": "code",
      "source": [],
      "metadata": {
        "id": "LnPfxfY8HKn8"
      },
      "execution_count": null,
      "outputs": []
    }
  ],
  "metadata": {
    "colab": {
      "provenance": [],
      "gpuType": "T4",
      "authorship_tag": "ABX9TyPw3vh1UaRAIBkTRLOJ0lc7",
      "include_colab_link": true
    },
    "kernelspec": {
      "display_name": "Python 3",
      "name": "python3"
    },
    "language_info": {
      "name": "python"
    },
    "accelerator": "GPU"
  },
  "nbformat": 4,
  "nbformat_minor": 0
}